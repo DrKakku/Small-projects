{
  "nbformat": 4,
  "nbformat_minor": 0,
  "metadata": {
    "colab": {
      "name": "CNN.ipynb",
      "provenance": [],
      "collapsed_sections": [],
      "authorship_tag": "ABX9TyMXy7Xo97Wd3nT7yQaPyJkS",
      "include_colab_link": true
    },
    "kernelspec": {
      "name": "python3",
      "display_name": "Python 3"
    },
    "language_info": {
      "name": "python"
    }
  },
  "cells": [
    {
      "cell_type": "markdown",
      "metadata": {
        "id": "view-in-github",
        "colab_type": "text"
      },
      "source": [
        "<a href=\"https://colab.research.google.com/github/DrKakku/Small-projects/blob/master/CNN.ipynb\" target=\"_parent\"><img src=\"https://colab.research.google.com/assets/colab-badge.svg\" alt=\"Open In Colab\"/></a>"
      ]
    },
    {
      "cell_type": "code",
      "metadata": {
        "id": "FLk1bodsT8rv"
      },
      "source": [
        "import numpy as np\n",
        "import tensorflow as tf\n",
        "import matplotlib.pylab as plt"
      ],
      "execution_count": 1,
      "outputs": []
    },
    {
      "cell_type": "code",
      "metadata": {
        "id": "8McEPn0PUTAa"
      },
      "source": [
        "from tensorflow import keras\n",
        "from tensorflow.keras import layers\n",
        "from tensorflow.keras.models import Sequential"
      ],
      "execution_count": 2,
      "outputs": []
    },
    {
      "cell_type": "code",
      "metadata": {
        "colab": {
          "base_uri": "https://localhost:8080/"
        },
        "id": "bZ4ZoU_yU88B",
        "outputId": "ad70bd5b-6526-47b0-eae1-476634277db6"
      },
      "source": [
        "(x_train, y_train), (x_test, y_test) = keras.datasets.cifar10.load_data()"
      ],
      "execution_count": 3,
      "outputs": [
        {
          "output_type": "stream",
          "name": "stdout",
          "text": [
            "Downloading data from https://www.cs.toronto.edu/~kriz/cifar-10-python.tar.gz\n",
            "170500096/170498071 [==============================] - 2s 0us/step\n",
            "170508288/170498071 [==============================] - 2s 0us/step\n"
          ]
        }
      ]
    },
    {
      "cell_type": "code",
      "metadata": {
        "colab": {
          "base_uri": "https://localhost:8080/",
          "height": 283
        },
        "id": "6g-pOwAVVMza",
        "outputId": "003ac8c9-652a-45b7-f755-ae0151b534eb"
      },
      "source": [
        "plt.imshow(x_train[0])\n",
        "x_train.shape"
      ],
      "execution_count": 4,
      "outputs": [
        {
          "output_type": "execute_result",
          "data": {
            "text/plain": [
              "(50000, 32, 32, 3)"
            ]
          },
          "metadata": {},
          "execution_count": 4
        },
        {
          "output_type": "display_data",
          "data": {
            "image/png": "[encoded data removed]",
            "text/plain": [
              "<Figure size 432x288 with 1 Axes>"
            ]
          },
          "metadata": {
            "needs_background": "light"
          }
        }
      ]
    },
    {
      "cell_type": "code",
      "metadata": {
        "colab": {
          "base_uri": "https://localhost:8080/"
        },
        "id": "t9BswL6XVdJJ",
        "outputId": "5e1af6e1-6ffc-442f-82eb-b66ccdfb88ef"
      },
      "source": [
        "y_train[0]"
      ],
      "execution_count": 5,
      "outputs": [
        {
          "output_type": "execute_result",
          "data": {
            "text/plain": [
              "array([6], dtype=uint8)"
            ]
          },
          "metadata": {},
          "execution_count": 5
        }
      ]
    },
    {
      "cell_type": "code",
      "metadata": {
        "id": "g51ewpcDY_ss"
      },
      "source": [
        "model = Sequential()\n",
        "model.add(layers.Conv2D(32,(3,3),activation=\"relu\",input_shape=(32,32,3)))\n",
        "model.add(layers.MaxPooling2D((2,2)))\n",
        "model.add(layers.Conv2D(64,(3,3),activation=\"relu\"))\n",
        "model.add(layers.MaxPooling2D((2,2)))\n",
        "model.add(layers.Conv2D(64,(3,3),activation=\"relu\"))"
      ],
      "execution_count": 8,
      "outputs": []
    },
    {
      "cell_type": "code",
      "metadata": {
        "colab": {
          "base_uri": "https://localhost:8080/"
        },
        "id": "aIMCprIoaS5h",
        "outputId": "e9b820f3-8048-402a-9b28-70801c7680c5"
      },
      "source": [
        "model.summary()"
      ],
      "execution_count": 9,
      "outputs": [
        {
          "output_type": "stream",
          "name": "stdout",
          "text": [
            "Model: \"sequential_1\"\n",
            "_________________________________________________________________\n",
            "Layer (type)                 Output Shape              Param #   \n",
            "=================================================================\n",
            "conv2d_2 (Conv2D)            (None, 30, 30, 32)        896       \n",
            "_________________________________________________________________\n",
            "max_pooling2d_1 (MaxPooling2 (None, 15, 15, 32)        0         \n",
            "_________________________________________________________________\n",
            "conv2d_3 (Conv2D)            (None, 13, 13, 64)        18496     \n",
            "_________________________________________________________________\n",
            "max_pooling2d_2 (MaxPooling2 (None, 6, 6, 64)          0         \n",
            "_________________________________________________________________\n",
            "conv2d_4 (Conv2D)            (None, 4, 4, 64)          36928     \n",
            "=================================================================\n",
            "Total params: 56,320\n",
            "Trainable params: 56,320\n",
            "Non-trainable params: 0\n",
            "_________________________________________________________________\n"
          ]
        }
      ]
    },
    {
      "cell_type": "code",
      "metadata": {
        "id": "4Yci5kYvLqw6"
      },
      "source": [
        "model.add(layers.Flatten())\n",
        "model.add(layers.Dense(64,activation='relu'))\n",
        "model.add(layers.Dense(10))"
      ],
      "execution_count": 10,
      "outputs": []
    },
    {
      "cell_type": "code",
      "metadata": {
        "colab": {
          "base_uri": "https://localhost:8080/"
        },
        "id": "djnMwELQL_s_",
        "outputId": "557db9cc-dd07-4af2-ea20-531b55590db2"
      },
      "source": [
        "model.summary()"
      ],
      "execution_count": 11,
      "outputs": [
        {
          "output_type": "stream",
          "name": "stdout",
          "text": [
            "Model: \"sequential_1\"\n",
            "_________________________________________________________________\n",
            "Layer (type)                 Output Shape              Param #   \n",
            "=================================================================\n",
            "conv2d_2 (Conv2D)            (None, 30, 30, 32)        896       \n",
            "_________________________________________________________________\n",
            "max_pooling2d_1 (MaxPooling2 (None, 15, 15, 32)        0         \n",
            "_________________________________________________________________\n",
            "conv2d_3 (Conv2D)            (None, 13, 13, 64)        18496     \n",
            "_________________________________________________________________\n",
            "max_pooling2d_2 (MaxPooling2 (None, 6, 6, 64)          0         \n",
            "_________________________________________________________________\n",
            "conv2d_4 (Conv2D)            (None, 4, 4, 64)          36928     \n",
            "_________________________________________________________________\n",
            "flatten (Flatten)            (None, 1024)              0         \n",
            "_________________________________________________________________\n",
            "dense (Dense)                (None, 64)                65600     \n",
            "_________________________________________________________________\n",
            "dense_1 (Dense)              (None, 10)                650       \n",
            "=================================================================\n",
            "Total params: 122,570\n",
            "Trainable params: 122,570\n",
            "Non-trainable params: 0\n",
            "_________________________________________________________________\n"
          ]
        }
      ]
    },
    {
      "cell_type": "code",
      "metadata": {
        "id": "3Fp16iXIMDUF"
      },
      "source": [
        "model.compile(\n",
        "    optimizer=\"adam\",\n",
        "    loss = tf.keras.losses.SparseCategoricalCrossentropy(from_logits=True),\n",
        "    metrics = ['Accuracy']\n",
        ")"
      ],
      "execution_count": 13,
      "outputs": []
    },
    {
      "cell_type": "code",
      "metadata": {
        "id": "I9kHm9EnMvud"
      },
      "source": [
        "#we will normalise the data first then train it\n",
        "x_train_normal = x_train / 255.0\n",
        "x_test_normal = x_test / 255.0"
      ],
      "execution_count": 14,
      "outputs": []
    },
    {
      "cell_type": "code",
      "metadata": {
        "colab": {
          "base_uri": "https://localhost:8080/"
        },
        "id": "ROi_Xhf7NEWO",
        "outputId": "8425e986-f627-4e71-ac7c-fcaf95081660"
      },
      "source": [
        "model.fit(x_train_normal,y_train,epochs=10, \n",
        "                    validation_data=(x_test_normal, y_test))"
      ],
      "execution_count": 16,
      "outputs": [
        {
          "output_type": "stream",
          "name": "stdout",
          "text": [
            "Epoch 1/10\n",
            "1563/1563 [==============================] - 64s 41ms/step - loss: 1.1651 - Accuracy: 0.5875 - val_loss: 1.0781 - val_Accuracy: 0.6214\n",
            "Epoch 2/10\n",
            "1563/1563 [==============================] - 64s 41ms/step - loss: 1.0087 - Accuracy: 0.6458 - val_loss: 0.9830 - val_Accuracy: 0.6506\n",
            "Epoch 3/10\n",
            "1563/1563 [==============================] - 64s 41ms/step - loss: 0.9100 - Accuracy: 0.6820 - val_loss: 0.9553 - val_Accuracy: 0.6656\n",
            "Epoch 4/10\n",
            "1563/1563 [==============================] - 64s 41ms/step - loss: 0.8393 - Accuracy: 0.7049 - val_loss: 0.8972 - val_Accuracy: 0.6876\n",
            "Epoch 5/10\n",
            "1563/1563 [==============================] - 65s 41ms/step - loss: 0.7822 - Accuracy: 0.7256 - val_loss: 0.8822 - val_Accuracy: 0.6913\n",
            "Epoch 6/10\n",
            "1563/1563 [==============================] - 65s 41ms/step - loss: 0.7291 - Accuracy: 0.7458 - val_loss: 0.8526 - val_Accuracy: 0.7078\n",
            "Epoch 7/10\n",
            "1563/1563 [==============================] - 65s 41ms/step - loss: 0.6870 - Accuracy: 0.7577 - val_loss: 0.8450 - val_Accuracy: 0.7065\n",
            "Epoch 8/10\n",
            "1563/1563 [==============================] - 64s 41ms/step - loss: 0.6500 - Accuracy: 0.7717 - val_loss: 0.8641 - val_Accuracy: 0.7059\n",
            "Epoch 9/10\n",
            "1563/1563 [==============================] - 64s 41ms/step - loss: 0.6173 - Accuracy: 0.7811 - val_loss: 0.8797 - val_Accuracy: 0.7064\n",
            "Epoch 10/10\n",
            "1563/1563 [==============================] - 64s 41ms/step - loss: 0.5793 - Accuracy: 0.7954 - val_loss: 0.8742 - val_Accuracy: 0.7102\n"
          ]
        },
        {
          "output_type": "execute_result",
          "data": {
            "text/plain": [
              "<keras.callbacks.History at 0x7f80d5f00d90>"
            ]
          },
          "metadata": {},
          "execution_count": 16
        }
      ]
    },
    {
      "cell_type": "code",
      "metadata": {
        "colab": {
          "base_uri": "https://localhost:8080/"
        },
        "id": "erD72Qp7NH1b",
        "outputId": "cc8f1fcd-29c8-4242-cc76-1a08fbb1f6e9"
      },
      "source": [
        "model.evaluate(x_test_normal,y_test)"
      ],
      "execution_count": 17,
      "outputs": [
        {
          "output_type": "stream",
          "name": "stdout",
          "text": [
            "313/313 [==============================] - 4s 11ms/step - loss: 0.8742 - Accuracy: 0.7102\n"
          ]
        },
        {
          "output_type": "execute_result",
          "data": {
            "text/plain": [
              "[0.8742441534996033, 0.7102000117301941]"
            ]
          },
          "metadata": {},
          "execution_count": 17
        }
      ]
    },
    {
      "cell_type": "code",
      "metadata": {
        "id": "aDrNYl6NQJdd"
      },
      "source": [
        "class_names = ['airplane', 'automobile', 'bird', 'cat', 'deer',\n",
        "               'dog', 'frog', 'horse', 'ship', 'truck']"
      ],
      "execution_count": 18,
      "outputs": []
    },
    {
      "cell_type": "code",
      "metadata": {
        "id": "jHWnXSivReVM"
      },
      "source": [
        "import cv2\n",
        "testIm = cv2.imread(\"1.png\")\n"
      ],
      "execution_count": null,
      "outputs": []
    },
    {
      "cell_type": "code",
      "metadata": {
        "colab": {
          "base_uri": "https://localhost:8080/",
          "height": 285
        },
        "id": "-I6USyoBR--4",
        "outputId": "ae6071f2-78d7-41c4-e712-9facece0040e"
      },
      "source": [
        "plt.imshow(testIm)"
      ],
      "execution_count": 21,
      "outputs": [
        {
          "output_type": "execute_result",
          "data": {
            "text/plain": [
              "<matplotlib.image.AxesImage at 0x7f80c92077d0>"
            ]
          },
          "metadata": {},
          "execution_count": 21
        },
        {
          "output_type": "display_data",
          "data": {
            "image/png": "[encoded data removed]",
            "text/plain": [
              "<Figure size 432x288 with 1 Axes>"
            ]
          },
          "metadata": {
            "needs_background": "light"
          }
        }
      ]
    },
    {
      "cell_type": "code",
      "metadata": {
        "id": "WPA7MV9VSMjX"
      },
      "source": [
        "\n",
        "testIm = cv2.resize(testIm,(32,32))"
      ],
      "execution_count": 30,
      "outputs": []
    },
    {
      "cell_type": "code",
      "metadata": {
        "id": "PwexdoPqlEMw"
      },
      "source": [
        "testIm.shape\n",
        "testIm_normal = np.array(testIm)/255.0"
      ],
      "execution_count": 33,
      "outputs": []
    },
    {
      "cell_type": "code",
      "metadata": {
        "id": "l-6vqYrTSg_C"
      },
      "source": [
        "pred = model.predict(testIm_normal[np.newaxis, ...])"
      ],
      "execution_count": 35,
      "outputs": []
    },
    {
      "cell_type": "code",
      "metadata": {
        "colab": {
          "base_uri": "https://localhost:8080/",
          "height": 37
        },
        "id": "p0OjVGVRS5xg",
        "outputId": "a7604c84-acbc-42da-d4cd-15fb97e5a208"
      },
      "source": [
        "class_names[ pred.argmax()]"
      ],
      "execution_count": 39,
      "outputs": [
        {
          "output_type": "execute_result",
          "data": {
            "application/vnd.google.colaboratory.intrinsic+json": {
              "type": "string"
            },
            "text/plain": [
              "'bird'"
            ]
          },
          "metadata": {},
          "execution_count": 39
        }
      ]
    },
    {
      "cell_type": "code",
      "metadata": {
        "colab": {
          "base_uri": "https://localhost:8080/",
          "height": 283
        },
        "id": "JmzIG29rlXws",
        "outputId": "c11cf9f6-2172-40d9-b5a3-b21e9dc668c3"
      },
      "source": [
        "plt.imshow(testIm)"
      ],
      "execution_count": 40,
      "outputs": [
        {
          "output_type": "execute_result",
          "data": {
            "text/plain": [
              "<matplotlib.image.AxesImage at 0x7f80c7eb1110>"
            ]
          },
          "metadata": {},
          "execution_count": 40
        },
        {
          "output_type": "display_data",
          "data": {
            "image/png": "[encoded data removed]",
            "text/plain": [
              "<Figure size 432x288 with 1 Axes>"
            ]
          },
          "metadata": {
            "needs_background": "light"
          }
        }
      ]
    },
    {
      "cell_type": "code",
      "metadata": {
        "id": "XMHxK7XzmpQm"
      },
      "source": [
        "def preprocess(imgUrl):\n",
        "    testIm = cv2.imread(imgUrl)\n",
        "    testIm = cv2.cvtColor(testIm, cv2.COLOR_BGR2RGB)\n",
        "    testIm = cv2.resize(testIm,(32,32))\n",
        "    testIm_normal = np.array(testIm)/255.0\n",
        "    return testIm , testIm_normal"
      ],
      "execution_count": 51,
      "outputs": []
    },
    {
      "cell_type": "code",
      "metadata": {
        "id": "DFMtz7_Alkeh"
      },
      "source": [
        "##2nd test\n",
        "x , norm_x = preprocess(\"2.png\")"
      ],
      "execution_count": 52,
      "outputs": []
    },
    {
      "cell_type": "code",
      "metadata": {
        "id": "dhmbSblJnFf4"
      },
      "source": [
        "pred = model.predict(norm_x[np.newaxis, ...])"
      ],
      "execution_count": 53,
      "outputs": []
    },
    {
      "cell_type": "code",
      "metadata": {
        "colab": {
          "base_uri": "https://localhost:8080/",
          "height": 37
        },
        "id": "18HXjSBUnJb9",
        "outputId": "bb0afd4a-647a-43df-b0bd-49c4be2ca289"
      },
      "source": [
        "class_names[ pred.argmax()]"
      ],
      "execution_count": 54,
      "outputs": [
        {
          "output_type": "execute_result",
          "data": {
            "application/vnd.google.colaboratory.intrinsic+json": {
              "type": "string"
            },
            "text/plain": [
              "'cat'"
            ]
          },
          "metadata": {},
          "execution_count": 54
        }
      ]
    },
    {
      "cell_type": "code",
      "metadata": {
        "colab": {
          "base_uri": "https://localhost:8080/",
          "height": 283
        },
        "id": "iyYoCo7ynL77",
        "outputId": "e82863d9-93eb-4e2b-ed58-19605675ef50"
      },
      "source": [
        "plt.imshow(x)"
      ],
      "execution_count": 55,
      "outputs": [
        {
          "output_type": "execute_result",
          "data": {
            "text/plain": [
              "<matplotlib.image.AxesImage at 0x7f80c7d32910>"
            ]
          },
          "metadata": {},
          "execution_count": 55
        },
        {
          "output_type": "display_data",
          "data": {
            "image/png": "[encoded data removed]",
            "text/plain": [
              "<Figure size 432x288 with 1 Axes>"
            ]
          },
          "metadata": {
            "needs_background": "light"
          }
        }
      ]
    },
    {
      "cell_type": "code",
      "metadata": {
        "colab": {
          "base_uri": "https://localhost:8080/",
          "height": 300
        },
        "id": "Taf8_np7nPEc",
        "outputId": "11c51531-9af0-4774-a2f0-8498e956a29e"
      },
      "source": [
        "##3nd test\n",
        "x , norm_x = preprocess(\"3.jpg\")\n",
        "pred = model.predict(norm_x[np.newaxis, ...])\n",
        "print(class_names[ pred.argmax()])\n",
        "plt.imshow(x)"
      ],
      "execution_count": 57,
      "outputs": [
        {
          "output_type": "stream",
          "name": "stdout",
          "text": [
            "dog\n"
          ]
        },
        {
          "output_type": "execute_result",
          "data": {
            "text/plain": [
              "<matplotlib.image.AxesImage at 0x7f80c7491d10>"
            ]
          },
          "metadata": {},
          "execution_count": 57
        },
        {
          "output_type": "display_data",
          "data": {
            "image/png": "[encoded data removed]",
            "text/plain": [
              "<Figure size 432x288 with 1 Axes>"
            ]
          },
          "metadata": {
            "needs_background": "light"
          }
        }
      ]
    },
    {
      "cell_type": "code",
      "metadata": {
        "id": "Bmg5GsI7pGyi"
      },
      "source": [
        ""
      ],
      "execution_count": null,
      "outputs": []
    }
  ]
}